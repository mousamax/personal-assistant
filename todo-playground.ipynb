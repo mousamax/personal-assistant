{
 "cells": [
  {
   "cell_type": "code",
   "execution_count": 4,
   "metadata": {},
   "outputs": [
    {
     "data": {
      "text/plain": [
       "ToDo(description='Pack all clothes and personal items', category='Moving', priority=None)"
      ]
     },
     "execution_count": 4,
     "metadata": {},
     "output_type": "execute_result"
    }
   ],
   "source": [
    "import getpass\n",
    "import os\n",
    "\n",
    "os.environ[\"TOGETHER_API_KEY\"] = getpass.getpass()\n",
    "\n",
    "from langchain_openai import ChatOpenAI\n",
    "\n",
    "llm = ChatOpenAI(\n",
    "    base_url=\"https://api.together.xyz/v1\",\n",
    "    api_key=os.environ[\"TOGETHER_API_KEY\"],\n",
    "    model=\"mistralai/Mixtral-8x7B-Instruct-v0.1\",\n",
    ")\n",
    "\n",
    "from typing import List, Optional\n",
    "from pydantic import BaseModel, Field\n",
    "\n",
    "# Pydantic\n",
    "class ToDo(BaseModel):\n",
    "    \"\"\"Todo item\"\"\"\n",
    "\n",
    "    description: str = Field(description=\"The description of the todo item\")\n",
    "    category: Optional[str] = Field(default=None, description=\"The category of the todo item\")\n",
    "    priority: Optional[str] = Field(default=None, description=\"The priority of the todo item: high, medium, low\")\n",
    "\n",
    "\n",
    "structured_llm = llm.with_structured_output(ToDo)\n",
    "\n",
    "structured_llm.invoke(\"Generate a todo list for a person who is moving to a new city\")"
   ]
  },
  {
   "cell_type": "code",
   "execution_count": 2,
   "metadata": {},
   "outputs": [
    {
     "name": "stdout",
     "output_type": "stream",
     "text": [
      "[\n",
      "  {\"item\": \"Pack clothing for the duration of the trip\", \"priority\": \"High\"},\n",
      "  {\"item\": \"Charge and pack electronic devices\", \"priority\": \"Medium\"},\n",
      "  {\"item\": \"Pack essential documents (passport, ID, insurance, etc.)\", \"priority\": \"High\"},\n",
      "  {\"item\": \"Fill any necessary prescriptions\", \"priority\": \"Medium\"},\n",
      "  {\"item\": \"Pack toiletries and personal care items\", \"priority\": \"Low\"},\n",
      "  {\"item\": \"Pack adapters and converters for foreign outlets\", \"priority\": \"Low\"},\n",
      "  {\"item\": \"Pack a travel-sized first aid kit\", \"priority\": \"Low\"},\n",
      "  {\"item\": \"Pack a copy of your itinerary and travel plans\", \"priority\": \"Low\"},\n",
      "  {\"item\": \"Pack a portable charger and power bank\", \"priority\": \"Low\"},\n",
      "  {\"item\": \"Pack a wallet and/or money belt\", \"priority\": \"Low\"}\n",
      "]\n"
     ]
    }
   ],
   "source": [
    "import os\n",
    "from together import Together\n",
    "\n",
    "client = Together(api_key=os.environ.get('TOGETHER_API_KEY'))\n",
    "\n",
    "response = client.chat.completions.create(\n",
    "    model=\"meta-llama/Llama-Vision-Free\",\n",
    "    messages=[{\"role\": \"user\", \"content\": \"I need to prepare my bag for a vacation. ONLY output todo items in json format.\"}],\n",
    ")\n",
    "print(response.choices[0].message.content)"
   ]
  }
 ],
 "metadata": {
  "kernelspec": {
   "display_name": "familymind",
   "language": "python",
   "name": "python3"
  },
  "language_info": {
   "codemirror_mode": {
    "name": "ipython",
    "version": 3
   },
   "file_extension": ".py",
   "mimetype": "text/x-python",
   "name": "python",
   "nbconvert_exporter": "python",
   "pygments_lexer": "ipython3",
   "version": "3.11.9"
  }
 },
 "nbformat": 4,
 "nbformat_minor": 2
}
